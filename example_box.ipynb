{
 "cells": [
  {
   "cell_type": "markdown",
   "metadata": {},
   "source": [
    "*Copyright (c) Meta Platforms, Inc. and affiliates. This source code is licensed under the license found in the LICENSE file in the root directory of this source tree.*\n",
    "\n",
    "This notebook includes the even simpler code for generating the \"box-over-box\" data as presented in Figure 1 of our **Part 2.2** paper (https://arxiv.org/pdf/2408.16293v1). It provides an even simpler math problem set which requires topological sort (just like iGSM) but has maximally removed the surrounding English. As one can see from our Part 2.2 paper, even GPT-4o can fail on such data and cannot correct its own mistakes."
   ]
  },
  {
   "cell_type": "code",
   "execution_count": 1,
   "metadata": {},
   "outputs": [],
   "source": [
    "import random\n",
    "import string\n",
    "import networkx as nx\n",
    "\n",
    "def generate_random_dag(n):\n",
    "    # Create an empty directed graph\n",
    "    dag = nx.DiGraph()\n",
    "    \n",
    "    # Add nodes to the graph\n",
    "    dag.add_nodes_from(range(n))\n",
    "    \n",
    "    # Iterate over each node\n",
    "    for node in range(n):\n",
    "        # Generate a list of possible nodes it can connect to\n",
    "        possible_targets = range(node + 1, n)\n",
    "        \n",
    "        # Randomly select up to 4 nodes from the possible targets\n",
    "        mmax = min(4, len(possible_targets))\n",
    "        if mmax==0:\n",
    "            targets = []\n",
    "        else:\n",
    "            targets = random.sample(possible_targets, random.randint(1, mmax))\n",
    "        \n",
    "        # Add edges from the current node to the selected targets\n",
    "        dag.add_edges_from([(node, target) for target in targets])\n",
    "    \n",
    "    return dag\n"
   ]
  },
  {
   "cell_type": "code",
   "execution_count": 2,
   "metadata": {},
   "outputs": [
    {
     "name": "stdout",
     "output_type": "stream",
     "text": [
      "\n",
      "Each box I has a box N inside it. Each box N has a box H inside it. Each box J has a box X inside it. Each box Y has a box N inside it. Each box T has a box B inside it. Each box K has a box P inside it. Each box Z weights 7 pounds on its own. Each box D weights 6 pounds on its own. Each box Q has a box J inside it. Each box X weights 8 pounds on its own. Each box E has a box V inside it. Each box G has a box M inside it. Each box K has a box F inside it. Each box R has a box K inside it. Each box H weights 7 pounds on its own. Each box Y weights 9 pounds on its own. Each box F has a box H inside it. Each box V has a box F inside it. Each box E weights 3 pounds on its own. Each box R has a box U inside it. Each box X has a box F inside it. Each box I has a box P inside it. Each box W has a box C inside it. Each box M has a box C inside it. Each box Z has a box X inside it. Each box I weights 2 pounds on its own. Each box A has a box N inside it. Each box O weights 5 pounds on its own. Each box V weights 2 pounds on its own. Each box M has a box Z inside it. Each box U has a box N inside it. Each box G weights 1 pounds on its own. Each box N weights 7 pounds on its own. Each box D has a box Z inside it. Each box P has a box F inside it. Each box I has a box S inside it. Each box Q weights 3 pounds on its own. Each box S has a box C inside it. Each box R has a box V inside it. Each box K weights 0 pounds on its own. Each box N has a box X inside it. Each box U has a box Z inside it. Each box M has a box W inside it. Each box B has a box P inside it. Each box F weights 5 pounds on its own. Each box L has a box J inside it. Each box T has a box E inside it. Each box C weights 1 pounds on its own. Each box W has a box H inside it. Each box M has a box P inside it. Each box V has a box J inside it. Each box J has a box H inside it. Each box B weights 8 pounds on its own. Each box L weights 3 pounds on its own. Each box I has a box B inside it. Each box W has a box J inside it. Each box N has a box V inside it. Each box Y has a box P inside it. Each box S has a box Z inside it. Each box Q has a box F inside it. Each box S has a box X inside it. Each box Y has a box X inside it. Each box E has a box X inside it. Each box C has a box Z inside it. Each box A weights 5 pounds on its own. Each box O has a box I inside it. Each box M weights 7 pounds on its own. Each box Z has a box F inside it. Each box T has a box D inside it. Each box Q has a box K inside it. Each box P weights 2 pounds on its own. Each box T weights 5 pounds on its own. Each box S weights 0 pounds on its own. Each box S has a box E inside it. Each box J weights 8 pounds on its own. Each box U weights 1 pounds on its own. Each box T has a box V inside it. Each box W weights 7 pounds on its own. Each box K has a box E inside it. Each box R weights 5 pounds on its own. Each box X has a box H inside it. Each box Q has a box Z inside it. Each box P has a box Z inside it. Each box U has a box P inside it. \n",
      "\n",
      "What is the total weight of box T?\n",
      "Answer = 267\n",
      "Node 0/T/267: 19/E, 20/V, 6/D, 12/B, \n",
      "Node 1/G/264: 4/M, \n",
      "Node 2/A/102: 16/N, \n",
      "Node 3/R/423: 20/V, 9/U, 17/K, \n",
      "Node 4/M/263: 18/P, 15/C, 14/W, 22/Z, \n",
      "Node 5/O/438: 7/I, \n",
      "Node 6/D/52: 22/Z, \n",
      "Node 7/I/433: 16/N, 12/B, 18/P, 10/S, \n",
      "Node 8/Q/261: 17/K, 21/J, 22/Z, 24/F, \n",
      "Node 9/U/204: 22/Z, 18/P, 16/N, \n",
      "Node 10/S/206: 23/X, 22/Z, 15/C, 19/E, \n",
      "Node 11/Y/193: 16/N, 18/P, 23/X, \n",
      "Node 12/B/68: 18/P, \n",
      "Node 13/L/45: 21/J, \n",
      "Node 14/W/103: 21/J, 15/C, 25/H, \n",
      "Node 15/C/47: 22/Z, \n",
      "Node 16/N/97: 23/X, 25/H, 20/V, \n",
      "Node 17/K/158: 18/P, 19/E, 24/F, \n",
      "Node 18/P/60: 22/Z, 24/F, \n",
      "Node 19/E/86: 20/V, 23/X, \n",
      "Node 20/V/56: 21/J, 24/F, \n",
      "Node 21/J/42: 25/H, 23/X, \n",
      "Node 22/Z/46: 23/X, 24/F, \n",
      "Node 23/X/27: 25/H, 24/F, \n",
      "Node 24/F/12: 25/H, \n",
      "Node 25/H/7: \n",
      "[267, 264, 102, 423, 263, 438, 52, 433, 261, 204, 206, 193, 68, 45, 103, 47, 97, 158, 60, 86, 56, 42, 46, 27, 12, 7]\n"
     ]
    }
   ],
   "source": [
    "\n",
    "# Parameters\n",
    "N = 26  # Number of nodes\n",
    "\n",
    "# Generate a random DAG\n",
    "dag = generate_random_dag(N)\n",
    "\n",
    "#node_names = random.sample(string.ascii_letters, N)\n",
    "node_names = random.sample(string.ascii_uppercase, N)\n",
    "node_values = [random.randint(0, 9) for _ in range(N)]\n",
    "\n",
    "node_total = [0]*N\n",
    "for node in reversed(list(dag.nodes())):\n",
    "    successors = list(dag.successors(node))\n",
    "    node_total[node] = node_values[node]\n",
    "    for suc in successors:\n",
    "        node_total[node] += node_total[suc]\n",
    "\n",
    "all_s = []\n",
    "for node in reversed(list(dag.nodes())):\n",
    "    successors = list(dag.successors(node))\n",
    "    all_s += [f\"Each box {node_names[node]} weights {node_values[node]} pounds on its own. \"]\n",
    "    for suc in successors:\n",
    "        all_s += [f\"Each box {node_names[node]} has a box {node_names[suc]} inside it. \"]\n",
    "random.shuffle(all_s)\n",
    "print()\n",
    "print(\"\".join(all_s))\n",
    "print()\n",
    "print(f\"What is the total weight of box {node_names[0]}?\")\n",
    "print(f\"Answer = {node_total[0]}\")\n",
    "\n",
    "for node in dag.nodes():\n",
    "    successors = list(dag.successors(node))\n",
    "    #print(f\"Node {node}: {', '.join(map(str, successors)) if successors else 'No successors'}\")\n",
    "    print(f\"Node {node}/{node_names[node]}/{node_total[node]}: \", end='')\n",
    "    for suc in successors:\n",
    "        print(f\"{suc}/{node_names[suc]}, \", end='')\n",
    "        #{', '.join(map(str, successors)) if successors else 'No successors'}\")\n",
    "    print()\n",
    "\n",
    "print(node_total)"
   ]
  }
 ],
 "metadata": {
  "kernelspec": {
   "display_name": "zeyuan_env",
   "language": "python",
   "name": "python3"
  },
  "language_info": {
   "codemirror_mode": {
    "name": "ipython",
    "version": 3
   },
   "file_extension": ".py",
   "mimetype": "text/x-python",
   "name": "python",
   "nbconvert_exporter": "python",
   "pygments_lexer": "ipython3",
   "version": "3.9.16"
  }
 },
 "nbformat": 4,
 "nbformat_minor": 2
}
